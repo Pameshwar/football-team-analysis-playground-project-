{
 "cells": [
  {
   "cell_type": "code",
   "execution_count": 1,
   "metadata": {},
   "outputs": [],
   "source": [
    "import numpy as np \n",
    "import pandas as pd\n",
    "import matplotlib.pyplot as plt \n",
    "%matplotlib inline  \n",
    "from datetime import datetime \n",
    "from dateutil import parser\n",
    "import os # for local file system interaction \n",
    "#load and visualize data\n",
    "os.getcwd()\n",
    "os.chdir(\"C:/Users/user/Downloads/\")\n",
    "df = pd.read_csv(\"E0.csv\")\n",
    "df.head(3)"
   ]
  },
  {
   "cell_type": "code",
   "execution_count": 2,
   "metadata": {},
   "outputs": [],
   "source": [
    "df.shape #to check size of data roow and coulumns"
   ]
  },
  {
   "cell_type": "code",
   "execution_count": 3,
   "metadata": {},
   "outputs": [],
   "source": [
    "df.columns # To check only colums for of data "
   ]
  },
  {
   "cell_type": "code",
   "execution_count": 4,
   "metadata": {},
   "outputs": [],
   "source": [
    "df.info() #to check other details like data type constraints"
   ]
  },
  {
   "cell_type": "code",
   "execution_count": 5,
   "metadata": {},
   "outputs": [],
   "source": [
    "df.describe() #just have look on statistics of data "
   ]
  },
  {
   "cell_type": "code",
   "execution_count": 6,
   "metadata": {},
   "outputs": [],
   "source": [
    "df.apply(lambda X: sum(X.isnull())) #check null values "
   ]
  },
  {
   "cell_type": "code",
   "execution_count": 7,
   "metadata": {},
   "outputs": [],
   "source": [
    "df.apply(lambda X: sum(X.isna())) #check NA values "
   ]
  },
  {
   "cell_type": "code",
   "execution_count": 8,
   "metadata": {},
   "outputs": [],
   "source": [
    "df.head(3)"
   ]
  },
  {
   "cell_type": "code",
   "execution_count": 9,
   "metadata": {},
   "outputs": [],
   "source": [
    "#filtering Arsenal  team in Home team \n",
    "Ars_hometeam = df[df['HomeTeam'] == 'Arsenal']\n",
    "Ars_hometeam.head()"
   ]
  },
  {
   "cell_type": "code",
   "execution_count": 10,
   "metadata": {},
   "outputs": [],
   "source": [
    "#filtering Arsenal team in Away team \n",
    "Ars_awayteam = df[df['AwayTeam'] == 'Arsenal']\n",
    "Ars_awayteam.head()"
   ]
  },
  {
   "cell_type": "code",
   "execution_count": 11,
   "metadata": {},
   "outputs": [],
   "source": [
    "# check fiter record of Arsenals team in home team and Away team \n",
    "Ars_hometeam.shape, Ars_awayteam.shape"
   ]
  },
  {
   "cell_type": "code",
   "execution_count": 12,
   "metadata": {},
   "outputs": [],
   "source": [
    "plt.figure(figsize=(20,5))\n",
    "plt.ylim(0,5)\n",
    "plt.bar(Ars_hometeam[\"Date\"].values, Ars_hometeam[\"FTHG\"].values, label= \"Full time Home Team Goals\")\n",
    "plt.title(\"Full time Home Team Goals\")\n",
    "plt.xlabel(\"Match Dates\")\n",
    "plt.ylabel(\"Arsenal's Full times home team Goal per Match\")"
   ]
  },
  {
   "cell_type": "code",
   "execution_count": 13,
   "metadata": {},
   "outputs": [],
   "source": [
    "plt.figure(figsize=(20,5))\n",
    "plt.ylim(0,5)\n",
    "plt.bar(Ars_hometeam[\"Date\"].values, Ars_hometeam[\"HTHG\"].values, label= \"Half time Home Team Goals\")\n",
    "plt.title(\"Half time Home Team Goals\")\n",
    "plt.xlabel(\"Match Dates\")\n",
    "plt.ylabel(\"Arsenal's Half times home team Goal per Match\")"
   ]
  },
  {
   "cell_type": "code",
   "execution_count": 14,
   "metadata": {},
   "outputs": [],
   "source": [
    "plt.figure(figsize=(20,5))\n",
    "plt.bar(Ars_awayteam[\"Date\"].values, Ars_awayteam[\"FTAG\"].values, label= \"Full time Away Team Goals\")\n",
    "plt.title(\"Full time Away Team Goals\")\n",
    "plt.xlabel(\"Match Dates\")\n",
    "plt.ylabel(\"Arsenal's Full Time Away Team Goal/ Match\")"
   ]
  },
  {
   "cell_type": "code",
   "execution_count": 15,
   "metadata": {},
   "outputs": [],
   "source": [
    "plt.figure(figsize=(20,5))\n",
    "plt.ylim(0,5)\n",
    "plt.bar(Ars_awayteam[\"Date\"].values, Ars_awayteam[\"HTAG\"].values, label= \"Half time Away Team Goals\")\n",
    "plt.title(\"Full time Away Team Goals\")\n",
    "plt.xlabel(\"Match Dates\")\n",
    "plt.ylabel(\"Arsenal's Half time Away team Goal/ Match\")"
   ]
  },
  {
   "cell_type": "code",
   "execution_count": 16,
   "metadata": {},
   "outputs": [],
   "source": [
    "frames=[Ars_hometeam,Ars_awayteam]\n",
    "Arsenal_team_goal = pd.concat(frames)\n",
    "Arsenal_team_goal[\"Date\"] = pd.to_datetime(Arsenal_team_goal[\"Date\"])\n",
    "Arsenal_team_goal[\"Ars_tot_goals\"]=Arsenal_team_goal[\"FTHG\"]+ Arsenal_team_goal[\"HTHG\"]+Arsenal_team_goal[\"FTAG\"]+Arsenal_team_goal[\"HTAG\"]\n",
    "x = Arsenal_team_goal.groupby(Arsenal_team_goal['Date'].dt.strftime('%B,%Y'))['Ars_tot_goals'].sum()"
   ]
  },
  {
   "cell_type": "code",
   "execution_count": 17,
   "metadata": {},
   "outputs": [],
   "source": [
    "plt.figure(figsize=(20,10))\n",
    "x.plot.bar()\n",
    "plt.title(\"Arsenal's Monthly Goals\")\n",
    "plt.xlabel(\"Month\")\n",
    "plt.ylabel(\"Arsenal's Team Monthly Goals\")\n",
    "plt.savefig(\"Arsenals monthly goals.png\")"
   ]
  },
  {
   "cell_type": "code",
   "execution_count": 18,
   "metadata": {},
   "outputs": [],
   "source": [
    "import warnings\n",
    "warnings.filterwarnings(\"ignore\")\n",
    "Ars_hometeam[\"ARS_AVG_HG\"]=Ars_hometeam[\"FTHG\"]+ Ars_hometeam[\"HTHG\"]\n",
    "Ars_hometeam.head()"
   ]
  },
  {
   "cell_type": "code",
   "execution_count": 19,
   "metadata": {},
   "outputs": [],
   "source": [
    "Ars_hometeam[\"ARS_AVG_HG\"].mean()"
   ]
  },
  {
   "cell_type": "code",
   "execution_count": 20,
   "metadata": {},
   "outputs": [],
   "source": [
    "Ars_awayteam[\"ARS_AVG_AG\"]= Ars_awayteam[\"FTAG\"]+ Ars_awayteam[\"HTAG\"]\n",
    "Ars_awayteam.head()"
   ]
  },
  {
   "cell_type": "code",
   "execution_count": 21,
   "metadata": {},
   "outputs": [],
   "source": [
    "Ars_awayteam[\"ARS_AVG_AG\"].mean()"
   ]
  },
  {
   "cell_type": "code",
   "execution_count": 22,
   "metadata": {},
   "outputs": [],
   "source": [
    "df[\"HC\"].corr(df[\"AC\"])"
   ]
  },
  {
   "cell_type": "code",
   "execution_count": 23,
   "metadata": {},
   "outputs": [],
   "source": [
    " Ars_hometeam[\"HC\"].corr(Ars_hometeam[\"AC\"])"
   ]
  },
  {
   "cell_type": "code",
   "execution_count": 24,
   "metadata": {},
   "outputs": [],
   "source": [
    "Ars_awayteam[\"HC\"].corr(Ars_awayteam[\"AC\"])"
   ]
  }
 ],
 "metadata": {},
 "nbformat": 4,
 "nbformat_minor": 2
}
